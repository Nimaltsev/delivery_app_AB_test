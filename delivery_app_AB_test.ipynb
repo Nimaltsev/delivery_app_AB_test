{
 "cells": [
  {
   "cell_type": "code",
   "execution_count": 18,
   "metadata": {},
   "outputs": [],
   "source": [
    "import pandas as pd\n",
    "import numpy as np\n",
    "import seaborn as sns\n",
    "import matplotlib.pyplot as plt\n",
    "from scipy import stats as ss\n",
    "import statsmodels.api as sm\n",
    "from statsmodels.regression.linear_model import OLS\n",
    "import statsmodels.formula.api as smf\n",
    "from statsmodels.stats.proportion import proportions_ztest"
   ]
  },
  {
   "cell_type": "markdown",
   "metadata": {},
   "source": [
    "#### Задача – оценить, смогла ли новая система рекомендаций принести пользу бизнесу и пользователям приложения."
   ]
  },
  {
   "cell_type": "code",
   "execution_count": 2,
   "metadata": {},
   "outputs": [],
   "source": [
    "orders = pd.read_csv('ab_orders.csv', parse_dates=['creation_time'])\n",
    "products = pd.read_csv('ab_products.csv')\n",
    "users = pd.read_csv('ab_users_data.csv', parse_dates=['time', 'date'])"
   ]
  },
  {
   "cell_type": "code",
   "execution_count": 3,
   "metadata": {},
   "outputs": [],
   "source": [
    "# Сделаем табличку только с теми заказами, которые не были отменены.\n",
    "users_not_canceled_orders = users\\\n",
    "    .sort_values('action')\\\n",
    "    .drop_duplicates(subset='order_id', keep='first')\\\n",
    "    .query('action==\"create_order\"')"
   ]
  },
  {
   "cell_type": "code",
   "execution_count": 4,
   "metadata": {},
   "outputs": [],
   "source": [
    "orders.product_ids = orders.product_ids.str.strip('{}').str.split(', ')\n",
    "orders = orders.explode('product_ids')\n",
    "# Разобьем табличку с заказами так, чтобы на каждый заказ приходилась отдельная строчка"
   ]
  },
  {
   "cell_type": "code",
   "execution_count": 5,
   "metadata": {},
   "outputs": [
    {
     "data": {
      "text/html": [
       "<div>\n",
       "<style scoped>\n",
       "    .dataframe tbody tr th:only-of-type {\n",
       "        vertical-align: middle;\n",
       "    }\n",
       "\n",
       "    .dataframe tbody tr th {\n",
       "        vertical-align: top;\n",
       "    }\n",
       "\n",
       "    .dataframe thead th {\n",
       "        text-align: right;\n",
       "    }\n",
       "</style>\n",
       "<table border=\"1\" class=\"dataframe\">\n",
       "  <thead>\n",
       "    <tr style=\"text-align: right;\">\n",
       "      <th></th>\n",
       "      <th>user_id</th>\n",
       "      <th>order_id</th>\n",
       "      <th>action</th>\n",
       "      <th>time</th>\n",
       "      <th>date</th>\n",
       "      <th>group</th>\n",
       "      <th>creation_time</th>\n",
       "      <th>product_id</th>\n",
       "      <th>name</th>\n",
       "      <th>price</th>\n",
       "    </tr>\n",
       "  </thead>\n",
       "  <tbody>\n",
       "    <tr>\n",
       "      <th>1354</th>\n",
       "      <td>964</td>\n",
       "      <td>1255</td>\n",
       "      <td>create_order</td>\n",
       "      <td>2022-08-26 00:00:19</td>\n",
       "      <td>2022-08-26</td>\n",
       "      <td>0</td>\n",
       "      <td>2022-08-26 00:00:19</td>\n",
       "      <td>75</td>\n",
       "      <td>сок ананасовый</td>\n",
       "      <td>120.0</td>\n",
       "    </tr>\n",
       "    <tr>\n",
       "      <th>1355</th>\n",
       "      <td>964</td>\n",
       "      <td>1255</td>\n",
       "      <td>create_order</td>\n",
       "      <td>2022-08-26 00:00:19</td>\n",
       "      <td>2022-08-26</td>\n",
       "      <td>0</td>\n",
       "      <td>2022-08-26 00:00:19</td>\n",
       "      <td>22</td>\n",
       "      <td>сок мультифрукт</td>\n",
       "      <td>120.0</td>\n",
       "    </tr>\n",
       "    <tr>\n",
       "      <th>1356</th>\n",
       "      <td>964</td>\n",
       "      <td>1255</td>\n",
       "      <td>create_order</td>\n",
       "      <td>2022-08-26 00:00:19</td>\n",
       "      <td>2022-08-26</td>\n",
       "      <td>0</td>\n",
       "      <td>2022-08-26 00:00:19</td>\n",
       "      <td>53</td>\n",
       "      <td>мука</td>\n",
       "      <td>78.3</td>\n",
       "    </tr>\n",
       "    <tr>\n",
       "      <th>1357</th>\n",
       "      <td>964</td>\n",
       "      <td>1255</td>\n",
       "      <td>create_order</td>\n",
       "      <td>2022-08-26 00:00:19</td>\n",
       "      <td>2022-08-26</td>\n",
       "      <td>0</td>\n",
       "      <td>2022-08-26 00:00:19</td>\n",
       "      <td>84</td>\n",
       "      <td>мандарины</td>\n",
       "      <td>90.4</td>\n",
       "    </tr>\n",
       "    <tr>\n",
       "      <th>8564</th>\n",
       "      <td>965</td>\n",
       "      <td>1256</td>\n",
       "      <td>create_order</td>\n",
       "      <td>2022-08-26 00:02:21</td>\n",
       "      <td>2022-08-26</td>\n",
       "      <td>1</td>\n",
       "      <td>2022-08-26 00:02:21</td>\n",
       "      <td>56</td>\n",
       "      <td>сосиски</td>\n",
       "      <td>150.0</td>\n",
       "    </tr>\n",
       "  </tbody>\n",
       "</table>\n",
       "</div>"
      ],
      "text/plain": [
       "      user_id  order_id        action                time       date  group  \\\n",
       "1354      964      1255  create_order 2022-08-26 00:00:19 2022-08-26      0   \n",
       "1355      964      1255  create_order 2022-08-26 00:00:19 2022-08-26      0   \n",
       "1356      964      1255  create_order 2022-08-26 00:00:19 2022-08-26      0   \n",
       "1357      964      1255  create_order 2022-08-26 00:00:19 2022-08-26      0   \n",
       "8564      965      1256  create_order 2022-08-26 00:02:21 2022-08-26      1   \n",
       "\n",
       "           creation_time  product_id             name  price  \n",
       "1354 2022-08-26 00:00:19          75   сок ананасовый  120.0  \n",
       "1355 2022-08-26 00:00:19          22  сок мультифрукт  120.0  \n",
       "1356 2022-08-26 00:00:19          53             мука   78.3  \n",
       "1357 2022-08-26 00:00:19          84        мандарины   90.4  \n",
       "8564 2022-08-26 00:02:21          56          сосиски  150.0  "
      ]
     },
     "execution_count": 5,
     "metadata": {},
     "output_type": "execute_result"
    }
   ],
   "source": [
    "# Сделаем 2 единых датафрейма - со всеми заказами и только с теми, которые не были отменены.\n",
    "df_not_canceled_orders = users_not_canceled_orders.merge(orders, on='order_id', how='inner')\n",
    "df_not_canceled_orders = df_not_canceled_orders.rename(columns={'product_ids': 'product_id'})\n",
    "df_not_canceled_orders.product_id = df_not_canceled_orders.product_id.astype('int')\n",
    "df_not_canceled_orders = df_not_canceled_orders.merge(products, on='product_id', how='left').sort_values('order_id')\n",
    "df_not_canceled_orders.head()"
   ]
  },
  {
   "cell_type": "code",
   "execution_count": 6,
   "metadata": {},
   "outputs": [
    {
     "data": {
      "text/html": [
       "<div>\n",
       "<style scoped>\n",
       "    .dataframe tbody tr th:only-of-type {\n",
       "        vertical-align: middle;\n",
       "    }\n",
       "\n",
       "    .dataframe tbody tr th {\n",
       "        vertical-align: top;\n",
       "    }\n",
       "\n",
       "    .dataframe thead th {\n",
       "        text-align: right;\n",
       "    }\n",
       "</style>\n",
       "<table border=\"1\" class=\"dataframe\">\n",
       "  <thead>\n",
       "    <tr style=\"text-align: right;\">\n",
       "      <th></th>\n",
       "      <th>user_id</th>\n",
       "      <th>order_id</th>\n",
       "      <th>action</th>\n",
       "      <th>time</th>\n",
       "      <th>date</th>\n",
       "      <th>group</th>\n",
       "      <th>creation_time</th>\n",
       "      <th>product_id</th>\n",
       "      <th>name</th>\n",
       "      <th>price</th>\n",
       "    </tr>\n",
       "  </thead>\n",
       "  <tbody>\n",
       "    <tr>\n",
       "      <th>0</th>\n",
       "      <td>964</td>\n",
       "      <td>1255</td>\n",
       "      <td>create_order</td>\n",
       "      <td>2022-08-26 00:00:19</td>\n",
       "      <td>2022-08-26</td>\n",
       "      <td>0</td>\n",
       "      <td>2022-08-26 00:00:19</td>\n",
       "      <td>75</td>\n",
       "      <td>сок ананасовый</td>\n",
       "      <td>120.0</td>\n",
       "    </tr>\n",
       "    <tr>\n",
       "      <th>1</th>\n",
       "      <td>964</td>\n",
       "      <td>1255</td>\n",
       "      <td>create_order</td>\n",
       "      <td>2022-08-26 00:00:19</td>\n",
       "      <td>2022-08-26</td>\n",
       "      <td>0</td>\n",
       "      <td>2022-08-26 00:00:19</td>\n",
       "      <td>22</td>\n",
       "      <td>сок мультифрукт</td>\n",
       "      <td>120.0</td>\n",
       "    </tr>\n",
       "    <tr>\n",
       "      <th>2</th>\n",
       "      <td>964</td>\n",
       "      <td>1255</td>\n",
       "      <td>create_order</td>\n",
       "      <td>2022-08-26 00:00:19</td>\n",
       "      <td>2022-08-26</td>\n",
       "      <td>0</td>\n",
       "      <td>2022-08-26 00:00:19</td>\n",
       "      <td>53</td>\n",
       "      <td>мука</td>\n",
       "      <td>78.3</td>\n",
       "    </tr>\n",
       "    <tr>\n",
       "      <th>3</th>\n",
       "      <td>964</td>\n",
       "      <td>1255</td>\n",
       "      <td>create_order</td>\n",
       "      <td>2022-08-26 00:00:19</td>\n",
       "      <td>2022-08-26</td>\n",
       "      <td>0</td>\n",
       "      <td>2022-08-26 00:00:19</td>\n",
       "      <td>84</td>\n",
       "      <td>мандарины</td>\n",
       "      <td>90.4</td>\n",
       "    </tr>\n",
       "    <tr>\n",
       "      <th>4</th>\n",
       "      <td>965</td>\n",
       "      <td>1256</td>\n",
       "      <td>create_order</td>\n",
       "      <td>2022-08-26 00:02:21</td>\n",
       "      <td>2022-08-26</td>\n",
       "      <td>1</td>\n",
       "      <td>2022-08-26 00:02:21</td>\n",
       "      <td>56</td>\n",
       "      <td>сосиски</td>\n",
       "      <td>150.0</td>\n",
       "    </tr>\n",
       "  </tbody>\n",
       "</table>\n",
       "</div>"
      ],
      "text/plain": [
       "   user_id  order_id        action                time       date  group  \\\n",
       "0      964      1255  create_order 2022-08-26 00:00:19 2022-08-26      0   \n",
       "1      964      1255  create_order 2022-08-26 00:00:19 2022-08-26      0   \n",
       "2      964      1255  create_order 2022-08-26 00:00:19 2022-08-26      0   \n",
       "3      964      1255  create_order 2022-08-26 00:00:19 2022-08-26      0   \n",
       "4      965      1256  create_order 2022-08-26 00:02:21 2022-08-26      1   \n",
       "\n",
       "        creation_time  product_id             name  price  \n",
       "0 2022-08-26 00:00:19          75   сок ананасовый  120.0  \n",
       "1 2022-08-26 00:00:19          22  сок мультифрукт  120.0  \n",
       "2 2022-08-26 00:00:19          53             мука   78.3  \n",
       "3 2022-08-26 00:00:19          84        мандарины   90.4  \n",
       "4 2022-08-26 00:02:21          56          сосиски  150.0  "
      ]
     },
     "execution_count": 6,
     "metadata": {},
     "output_type": "execute_result"
    }
   ],
   "source": [
    "df = users.merge(orders, on ='order_id', how='inner')\n",
    "df = df.rename(columns={'product_ids': 'product_id'})\n",
    "df.product_id = df.product_id.astype('int')\n",
    "df = df.merge(products, on='product_id', how='left').sort_values('order_id')\n",
    "df.head()"
   ]
  },
  {
   "cell_type": "markdown",
   "metadata": {},
   "source": [
    "##### В качестве целевых метрик проверим: средний чек и долю неотмененных заказов"
   ]
  },
  {
   "cell_type": "code",
   "execution_count": 7,
   "metadata": {},
   "outputs": [],
   "source": [
    "df_1 = df_not_canceled_orders.groupby(['order_id','group'], as_index=False)['price'].sum()"
   ]
  },
  {
   "cell_type": "markdown",
   "metadata": {},
   "source": [
    "Взглянем на размер чека на графике. Визуально больших различий не заметно. Проверим это статистически. По графику видно, что распределение близко к нормальному, но, скорее всего, таковым не является. Тем не менее, так как отсутствуют значительные выбросы, а выборка большая, то можно применить t-тест"
   ]
  },
  {
   "cell_type": "code",
   "execution_count": 10,
   "metadata": {},
   "outputs": [
    {
     "data": {
      "text/plain": [
       "<Axes: xlabel='price', ylabel='Count'>"
      ]
     },
     "execution_count": 10,
     "metadata": {},
     "output_type": "execute_result"
    },
    {
     "data": {
      "image/png": "[encoded data removed]",
      "text/plain": [
       "<Figure size 640x480 with 1 Axes>"
      ]
     },
     "metadata": {},
     "output_type": "display_data"
    }
   ],
   "source": [
    "sns.histplot(data = df_1, x = df_1.price, hue='group')"
   ]
  },
  {
   "cell_type": "markdown",
   "metadata": {},
   "source": [
    "Нулевая гипотеза: средние чеки в тестовой и контрольной группе не различаются статистически значимо.\n",
    "Для начала проверим гомогенность дисперсий для проверки применимости t-теста:"
   ]
  },
  {
   "cell_type": "code",
   "execution_count": 8,
   "metadata": {},
   "outputs": [
    {
     "data": {
      "text/plain": [
       "LeveneResult(statistic=1.011786232132759, pvalue=0.31453758452176295)"
      ]
     },
     "execution_count": 8,
     "metadata": {},
     "output_type": "execute_result"
    }
   ],
   "source": [
    "ss.levene(df_1.query('group==0').price, df_1.query('group==1').price)"
   ]
  },
  {
   "cell_type": "markdown",
   "metadata": {},
   "source": [
    "И воспользуемся t-тестом:"
   ]
  },
  {
   "cell_type": "code",
   "execution_count": 9,
   "metadata": {},
   "outputs": [
    {
     "data": {
      "text/plain": [
       "Ttest_indResult(statistic=1.6334875192269402, pvalue=0.10244707728234669)"
      ]
     },
     "execution_count": 9,
     "metadata": {},
     "output_type": "execute_result"
    }
   ],
   "source": [
    "ss.ttest_ind(df_1.query('group==0').price, df_1.query('group==1').price)"
   ]
  },
  {
   "cell_type": "markdown",
   "metadata": {},
   "source": [
    "По результатам t-теста нет достаточных оснований отвергнуть нулевую гипотезу и заявлять о наличии разницы в размере среднего чека между тестовой и контрольной группами. \n"
   ]
  },
  {
   "cell_type": "markdown",
   "metadata": {},
   "source": [
    "---\n",
    "Теперь проверим вторую метрику - <b>долю неотмененных заказов.</b> <br>\n",
    "Нулевая гипотеза - доля неотменнных заказов статистически значимо не различается в обоих группах"
   ]
  },
  {
   "cell_type": "code",
   "execution_count": 22,
   "metadata": {},
   "outputs": [
    {
     "name": "stdout",
     "output_type": "stream",
     "text": [
      "Общая доля отмененных заказов составляет 0.09937311353610402\n"
     ]
    }
   ],
   "source": [
    "print('Общая доля отмененных заказов составляет', (4337 - 3909 )/4307)"
   ]
  },
  {
   "cell_type": "markdown",
   "metadata": {},
   "source": [
    "Взглянем на график, на нем визуально не видно больших отличий в доле отмененных заказов:"
   ]
  },
  {
   "cell_type": "code",
   "execution_count": 23,
   "metadata": {},
   "outputs": [
    {
     "data": {
      "text/plain": [
       "<Axes: xlabel='group', ylabel='count'>"
      ]
     },
     "execution_count": 23,
     "metadata": {},
     "output_type": "execute_result"
    },
    {
     "data": {
      "image/png": "[encoded data removed]",
      "text/plain": [
       "<Figure size 1000x500 with 1 Axes>"
      ]
     },
     "metadata": {},
     "output_type": "display_data"
    }
   ],
   "source": [
    "#На графике значимых отличий не видно. Ниже проверим статистически\n",
    "plt.figure(figsize=(10,5))\n",
    "sns.countplot(data = users, x = 'group', hue = 'action', palette = 'viridis')"
   ]
  },
  {
   "cell_type": "code",
   "execution_count": 22,
   "metadata": {},
   "outputs": [
    {
     "name": "stdout",
     "output_type": "stream",
     "text": [
      "1691 - общее количество заказов в контрольной группе\n",
      "2646 - общее количество заказов в тестовой группе\n",
      "1527 - количество неотмененных заказов в контрольной группе\n",
      "2382 - количество неотмененных заказов в тестовой группе\n"
     ]
    }
   ],
   "source": [
    "group0_total = users.query('group==0').order_id.count()\n",
    "group1_total = users.query('group==1').order_id.count()\n",
    "group1_not_canceled = users_not_canceled_orders.query('group==1').order_id.count()\n",
    "group0_not_canceled = users_not_canceled_orders.query('group==0').order_id.count()\n",
    "print(group0_total, '- общее количество заказов в контрольной группе')\n",
    "print(group1_total, '- общее количество заказов в тестовой группе')\n",
    "print(group0_not_canceled, '- количество неотмененных заказов в контрольной группе')\n",
    "print(group1_not_canceled, '- количество неотмененных заказов в тестовой группе')\n"
   ]
  },
  {
   "cell_type": "markdown",
   "metadata": {},
   "source": [
    "Проведем z-тест:"
   ]
  },
  {
   "cell_type": "code",
   "execution_count": 24,
   "metadata": {},
   "outputs": [
    {
     "data": {
      "text/plain": [
       "0.7638784339094905"
      ]
     },
     "execution_count": 24,
     "metadata": {},
     "output_type": "execute_result"
    }
   ],
   "source": [
    "stat, pval = proportions_ztest([group1_not_canceled, group0_not_canceled], [group1_total, group0_total])\n",
    "pval\n",
    "# тест не показал статистической значимости отличий"
   ]
  },
  {
   "cell_type": "markdown",
   "metadata": {},
   "source": [
    "Вторая нулевая гипотеза также не отвергается, тест не показал статистически значимого отличия в доле неотмененных (и отмененных, соответственно), заказов. "
   ]
  },
  {
   "cell_type": "code",
   "execution_count": 25,
   "metadata": {},
   "outputs": [
    {
     "data": {
      "text/plain": [
       "-0.3003916476320458"
      ]
     },
     "execution_count": 25,
     "metadata": {},
     "output_type": "execute_result"
    }
   ],
   "source": [
    "stat"
   ]
  },
  {
   "cell_type": "markdown",
   "metadata": {},
   "source": [
    "---\n",
    "В качестве последней метрики проверим количество заказов на пользователя. <br>\n",
    "Для начала взглянем на количество уникальных покупателей в каждой группе:"
   ]
  },
  {
   "cell_type": "code",
   "execution_count": 97,
   "metadata": {},
   "outputs": [
    {
     "data": {
      "text/plain": [
       "Text(0, 0.5, 'Количество уникальных пользователей')"
      ]
     },
     "execution_count": 97,
     "metadata": {},
     "output_type": "execute_result"
    },
    {
     "data": {
      "image/png": "[encoded data removed]",
      "text/plain": [
       "<Figure size 640x480 with 1 Axes>"
      ]
     },
     "metadata": {},
     "output_type": "display_data"
    }
   ],
   "source": [
    "ax = sns.barplot(x=['Контрольная группа', 'Тестовая группа'], \n",
    "                 y=[df.query('group==0').user_id.nunique(), df.query('group==1').user_id.nunique()])\n",
    "ax.bar_label(ax.containers[0], fontsize=10)\n",
    "plt.ylabel('Количество уникальных пользователей')"
   ]
  },
  {
   "cell_type": "markdown",
   "metadata": {},
   "source": [
    "И на среднее количество заказов на пользователя:"
   ]
  },
  {
   "cell_type": "code",
   "execution_count": 111,
   "metadata": {},
   "outputs": [
    {
     "name": "stdout",
     "output_type": "stream",
     "text": [
      "3.124271844660194 - среднее количество заказов в тестовой группе\n",
      "5.00796812749004 - среднее количество заказов в контрольной группе\n"
     ]
    }
   ],
   "source": [
    "print(df.query('group==0').groupby('user_id')['order_id'].nunique().mean(), \n",
    "      '- среднее количество заказов в тестовой группе')\n",
    "print(df.query('group==1').groupby('user_id')['order_id'].nunique().mean(), \n",
    "      '- среднее количество заказов в контрольной группе')"
   ]
  },
  {
   "cell_type": "code",
   "execution_count": 102,
   "metadata": {},
   "outputs": [
    {
     "data": {
      "text/plain": [
       "Text(0, 0.5, 'Количество пользователей')"
      ]
     },
     "execution_count": 102,
     "metadata": {},
     "output_type": "execute_result"
    },
    {
     "data": {
      "image/png": "[encoded data removed]",
      "text/plain": [
       "<Figure size 640x480 with 1 Axes>"
      ]
     },
     "metadata": {},
     "output_type": "display_data"
    }
   ],
   "source": [
    "sns.histplot(data=df, x=df.groupby('user_id')['order_id'].nunique(), hue='group', palette='muted')\n",
    "plt.xlabel('Количество заказов на пользователя')\n",
    "plt.ylabel('Количество пользователей')"
   ]
  },
  {
   "cell_type": "markdown",
   "metadata": {},
   "source": [
    "Так как в наблюдении есть довольно большие выбросы, а выборки не очень большие, то воспользуемся бутстрэпом для сравнения средних:"
   ]
  },
  {
   "cell_type": "code",
   "execution_count": 108,
   "metadata": {},
   "outputs": [
    {
     "name": "stdout",
     "output_type": "stream",
     "text": [
      "BootstrapResult(confidence_interval=ConfidenceInterval(low=2.963106796116505, high=3.297087378640777), bootstrap_distribution=array([3.07184466, 3.19029126, 3.12621359, ..., 3.01747573, 2.9631068 ,\n",
      "       3.29708738]), standard_error=0.08599167318279234)\n",
      "BootstrapResult(confidence_interval=ConfidenceInterval(low=4.816733067729084, high=5.207171314741036), bootstrap_distribution=array([5.19123506, 4.99003984, 4.97410359, ..., 5.00398406, 5.07569721,\n",
      "       4.98007968]), standard_error=0.09938804513733183)\n"
     ]
    }
   ],
   "source": [
    "print(ss.bootstrap((df.query('group==0').groupby('user_id')['order_id'].nunique(), ), np.mean))\n",
    "print(ss.bootstrap((df.query('group==1').groupby('user_id')['order_id'].nunique(), ), np.mean))"
   ]
  },
  {
   "cell_type": "markdown",
   "metadata": {},
   "source": [
    "По результатам теста, среднее количество заказов в тестовой группе значительно больше, чем в тестовой (доверительные интервалы среднего не пересекаются)"
   ]
  },
  {
   "cell_type": "markdown",
   "metadata": {},
   "source": [
    "### Вывод по результатам исследования: между контрольной и тестовой группой нет статистически значимых различий в среднем чеке и количестве отмененных заказов, но при этом в тестовой группе значительно выше количество заказов на пользователя. Таким образом, общая выручка в тестовой группе выше. <br> \n",
    "### Целесообразно выкатить новую систему рекомендаций товаров на всех пользователей\n"
   ]
  }
 ],
 "metadata": {
  "kernelspec": {
   "display_name": "Python 3",
   "language": "python",
   "name": "python3"
  },
  "language_info": {
   "codemirror_mode": {
    "name": "ipython",
    "version": 3
   },
   "file_extension": ".py",
   "mimetype": "text/x-python",
   "name": "python",
   "nbconvert_exporter": "python",
   "pygments_lexer": "ipython3",
   "version": "3.10.9"
  }
 },
 "nbformat": 4,
 "nbformat_minor": 4
}
